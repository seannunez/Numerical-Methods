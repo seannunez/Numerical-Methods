{
  "nbformat": 4,
  "nbformat_minor": 0,
  "metadata": {
    "colab": {
      "name": " Python Exercise 2",
      "provenance": []
    },
    "kernelspec": {
      "name": "python3",
      "display_name": "Python 3"
    },
    "language_info": {
      "name": "python"
    }
  },
  "cells": [
    {
      "cell_type": "code",
      "metadata": {
        "colab": {
          "base_uri": "https://localhost:8080/"
        },
        "id": "TzBB7yOegdI0",
        "outputId": "c6981d95-3744-4c81-e745-2dc9a7ba8ed4"
      },
      "source": [
        "import numpy as np\n",
        "\n",
        "#Matrix and Its Operations\n",
        "\n",
        "M1 = np.array(([-5, 0], [4, 1]))\n",
        "M2 = np.array(([6, 3], [2, 3]))\n",
        "\n",
        "Sum = M1 + M2\n",
        "difference1 = M2 - M1\n",
        "difference2 = M1 - M2\n",
        "\n",
        "print(\"Matrix and Its Operations\")\n",
        "print(\"\")\n",
        "print(\"Sum\")\n",
        "print(Sum)\n",
        "print(\"\")\n",
        "print(\"Difference1\")\n",
        "print(difference1)\n",
        "print(\"\")\n",
        "print(\"Difference2\")\n",
        "print(difference2)\n"
      ],
      "execution_count": 1,
      "outputs": [
        {
          "output_type": "stream",
          "name": "stdout",
          "text": [
            "Matrix and Its Operations\n",
            "\n",
            "Sum\n",
            "[[1 3]\n",
            " [6 4]]\n",
            "\n",
            "Difference1\n",
            "[[11  3]\n",
            " [-2  2]]\n",
            "\n",
            "Difference2\n",
            "[[-11  -3]\n",
            " [  2  -2]]\n"
          ]
        }
      ]
    }
  ]
}