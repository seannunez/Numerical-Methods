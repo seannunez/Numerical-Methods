{
  "nbformat": 4,
  "nbformat_minor": 0,
  "metadata": {
    "colab": {
      "name": "Python_Exercise_1.ipynb",
      "provenance": [],
      "authorship_tag": "ABX9TyMNHDE6TA/nd26Y8IADiXb3",
      "include_colab_link": true
    },
    "kernelspec": {
      "name": "python3",
      "display_name": "Python 3"
    },
    "language_info": {
      "name": "python"
    }
  },
  "cells": [
    {
      "cell_type": "markdown",
      "metadata": {
        "id": "view-in-github",
        "colab_type": "text"
      },
      "source": [
        "<a href=\"https://colab.research.google.com/github/seannunez/Numerical-Methods/blob/main/Python_Exercise_1.ipynb\" target=\"_parent\"><img src=\"https://colab.research.google.com/assets/colab-badge.svg\" alt=\"Open In Colab\"/></a>"
      ]
    },
    {
      "cell_type": "code",
      "metadata": {
        "colab": {
          "base_uri": "https://localhost:8080/"
        },
        "id": "U9xSZEZ9a_Ho",
        "outputId": "035c8108-0daa-4f93-9993-35ac635450bf"
      },
      "source": [
        "def calculator():\n",
        "    global result\n",
        "\n",
        "    Fullname        = input(\"Full Name: \")\n",
        "    student_number  = input(\"Student#: \")\n",
        "    course          = input(\"Course: \")\n",
        "    prelims         = input(\"Prelim  Grade: \")\n",
        "    midterms        = input(\"Midterm Grade: \")\n",
        "    finals          = input(\"Finals  Grade: \")\n",
        "\n",
        "\n",
        "    Final_average = (int(prelims) * .3+ int(midterms) * .3+ int(finals) * .4)\n",
        "    print(\"\")\n",
        "    print(\"Hello {},({})!!! your semestral grade in {} is: {:.2f}\"\n",
        "          .format(Fullname, student_number, course, Final_average))\n",
        "\n",
        "\n",
        "calculator()"
      ],
      "execution_count": 1,
      "outputs": [
        {
          "output_type": "stream",
          "name": "stdout",
          "text": [
            "Full Name: Sean Patrick N. Nuñez\n",
            "Student#: 201912068\n",
            "Course: Numerical Methods\n",
            "Prelim  Grade: 87\n",
            "Midterm Grade: 88\n",
            "Finals  Grade: 89\n",
            "\n",
            "Hello Sean Patrick N. Nuñez,(201912068)!!! your semestral grade in Numerical Methods is: 88.10\n"
          ]
        }
      ]
    }
  ]
}