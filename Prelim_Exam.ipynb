{
  "nbformat": 4,
  "nbformat_minor": 0,
  "metadata": {
    "colab": {
      "name": "Prelim Exam",
      "provenance": [],
      "authorship_tag": "ABX9TyOj2CUZi5gNfXLbcQA4x9fi",
      "include_colab_link": true
    },
    "kernelspec": {
      "name": "python3",
      "display_name": "Python 3"
    },
    "language_info": {
      "name": "python"
    }
  },
  "cells": [
    {
      "cell_type": "markdown",
      "metadata": {
        "id": "view-in-github",
        "colab_type": "text"
      },
      "source": [
        "<a href=\"https://colab.research.google.com/github/seannunez/Numerical-Methods/blob/main/Prelim_Exam.ipynb\" target=\"_parent\"><img src=\"https://colab.research.google.com/assets/colab-badge.svg\" alt=\"Open In Colab\"/></a>"
      ]
    },
    {
      "cell_type": "code",
      "metadata": {
        "colab": {
          "base_uri": "https://localhost:8080/"
        },
        "id": "ICmd-sXFZcH5",
        "outputId": "250edc2c-f846-4857-b30a-81e58a89edd2"
      },
      "source": [
        "import numpy as np\n",
        "\n",
        "A = np.array([\n",
        "      [1, 2, 3],\n",
        "      [2, 3, 3],\n",
        "      [3, 4, -2]])\n",
        "\n",
        "print(\"Determinant w/ decimal\")\n",
        "print(np.linalg.det(A))\n",
        "print(\"Determinant (Whole Number)\")\n",
        "print(round(np.linalg.det(A)))"
      ],
      "execution_count": 1,
      "outputs": [
        {
          "output_type": "stream",
          "name": "stdout",
          "text": [
            "Determinant w/ decimal\n",
            "5.000000000000001\n",
            "Determinant (Whole Number)\n",
            "5\n"
          ]
        }
      ]
    }
  ]
}